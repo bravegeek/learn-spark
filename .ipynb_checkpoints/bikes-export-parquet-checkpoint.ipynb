{
 "cells": [
  {
   "cell_type": "code",
   "execution_count": 1,
   "metadata": {},
   "outputs": [],
   "source": [
    "from pyspark.sql import SparkSession\n",
    "from pyspark.sql.types import StructType,StructField,StringType,IntegerType\n",
    "from pyspark.sql.functions import round "
   ]
  },
  {
   "cell_type": "code",
   "execution_count": 2,
   "metadata": {},
   "outputs": [],
   "source": [
    "spark1 = SparkSession.builder \\\n",
    "    .master('local[8]') \\\n",
    "    .appName('BigData') \\\n",
    "    .getOrCreate()"
   ]
  },
  {
   "cell_type": "code",
   "execution_count": 3,
   "metadata": {},
   "outputs": [],
   "source": [
    "df = spark1.read\\\n",
    "    .option(\"inferSchema\", \"true\")\\\n",
    "    .option(\"header\", \"true\")\\\n",
    "    .csv('bikeshare-tripdata')"
   ]
  },
  {
   "cell_type": "code",
   "execution_count": 4,
   "metadata": {},
   "outputs": [],
   "source": [
    "df = df.withColumnRenamed(\"Duration\",\"duration\") \\\n",
    "    .withColumnRenamed(\"Start date\",\"start_date\") \\\n",
    "    .withColumnRenamed(\"End date\",\"end_date\") \\\n",
    "    .withColumnRenamed(\"Start date\",\"start_date\") \\\n",
    "    .withColumnRenamed(\"Start station number\",\"start_stationId\") \\\n",
    "    .withColumnRenamed(\"Start station\",\"start_station\") \\\n",
    "    .withColumnRenamed(\"End station number\",\"end_stationId\") \\\n",
    "    .withColumnRenamed(\"End station\",\"end_station\") \\\n",
    "    .withColumnRenamed(\"Bike number\",\"bikeId\") \\\n",
    "    .withColumnRenamed(\"Member type\",\"member_type\") "
   ]
  },
  {
   "cell_type": "code",
   "execution_count": 5,
   "metadata": {
    "scrolled": true
   },
   "outputs": [],
   "source": [
    "# df.registerTempTable(\"bike\")\n",
    "df.createOrReplaceTempView(\"bike\")"
   ]
  },
  {
   "cell_type": "code",
   "execution_count": 6,
   "metadata": {},
   "outputs": [],
   "source": [
    "dfStation = spark1.sql(\"\\\n",
    "        select distinct start_stationId as stationId, start_station as station \\\n",
    "        from bike \\\n",
    "    \")"
   ]
  },
  {
   "cell_type": "code",
   "execution_count": 7,
   "metadata": {},
   "outputs": [],
   "source": [
    "dfbig = df.union(df).union(df).union(df).union(df)"
   ]
  },
  {
   "cell_type": "code",
   "execution_count": 8,
   "metadata": {},
   "outputs": [
    {
     "data": {
      "text/plain": [
       "95588215"
      ]
     },
     "execution_count": 8,
     "metadata": {},
     "output_type": "execute_result"
    }
   ],
   "source": [
    "# dfbig.count()"
   ]
  },
  {
   "cell_type": "code",
   "execution_count": 9,
   "metadata": {},
   "outputs": [],
   "source": [
    "dfStation.write.mode('overwrite').parquet(\"station.parquet\")"
   ]
  },
  {
   "cell_type": "code",
   "execution_count": 10,
   "metadata": {},
   "outputs": [],
   "source": [
    "dfbig.write.mode('overwrite').parquet(\"bike.parquet\")"
   ]
  },
  {
   "cell_type": "code",
   "execution_count": 13,
   "metadata": {},
   "outputs": [],
   "source": [
    "dfStation.write.mode('overwrite').option(\"header\",\"true\").csv(\"station.csv\")"
   ]
  },
  {
   "cell_type": "code",
   "execution_count": 14,
   "metadata": {},
   "outputs": [],
   "source": [
    "dfbig.write.mode('overwrite').option(\"header\",\"true\").csv(\"bike.csv\")"
   ]
  },
  {
   "cell_type": "code",
   "execution_count": null,
   "metadata": {},
   "outputs": [],
   "source": []
  }
 ],
 "metadata": {
  "kernelspec": {
   "display_name": "Python 3",
   "language": "python",
   "name": "python3"
  },
  "language_info": {
   "codemirror_mode": {
    "name": "ipython",
    "version": 3
   },
   "file_extension": ".py",
   "mimetype": "text/x-python",
   "name": "python",
   "nbconvert_exporter": "python",
   "pygments_lexer": "ipython3",
   "version": "3.8.5"
  }
 },
 "nbformat": 4,
 "nbformat_minor": 4
}
