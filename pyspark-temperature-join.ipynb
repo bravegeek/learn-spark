{
 "cells": [
  {
   "cell_type": "code",
   "execution_count": 1,
   "metadata": {},
   "outputs": [],
   "source": [
    "from pyspark.sql import SparkSession\n",
    "from pyspark.sql.types import StructType,StructField,StringType,IntegerType\n",
    "from pyspark.sql.functions import round "
   ]
  },
  {
   "cell_type": "code",
   "execution_count": 2,
   "metadata": {},
   "outputs": [],
   "source": [
    "spark1 = SparkSession.builder \\\n",
    "    .master('local') \\\n",
    "    .appName('MyTest') \\\n",
    "    .getOrCreate()"
   ]
  },
  {
   "cell_type": "code",
   "execution_count": 3,
   "metadata": {},
   "outputs": [],
   "source": [
    "# sc = spark1._sc"
   ]
  },
  {
   "cell_type": "code",
   "execution_count": 4,
   "metadata": {},
   "outputs": [],
   "source": [
    "schema1 = StructType([ \\\n",
    "        StructField(\"stationId\", StringType(), True),\\\n",
    "        StructField(\"time\", StringType(), True),\\\n",
    "        StructField(\"entryType\", StringType(), True),\\\n",
    "        StructField(\"temp\", IntegerType(), True),\\\n",
    "    ])"
   ]
  },
  {
   "cell_type": "code",
   "execution_count": 5,
   "metadata": {},
   "outputs": [],
   "source": [
    "df = spark1.read\\\n",
    "    .schema(schema1)\\\n",
    "    .csv('1800temps.csv')"
   ]
  },
  {
   "cell_type": "code",
   "execution_count": 6,
   "metadata": {},
   "outputs": [
    {
     "name": "stdout",
     "output_type": "stream",
     "text": [
      "root\n",
      " |-- stationId: string (nullable = true)\n",
      " |-- time: string (nullable = true)\n",
      " |-- entryType: string (nullable = true)\n",
      " |-- temp: integer (nullable = true)\n",
      "\n"
     ]
    }
   ],
   "source": [
    "df.printSchema()"
   ]
  },
  {
   "cell_type": "code",
   "execution_count": 7,
   "metadata": {},
   "outputs": [
    {
     "name": "stdout",
     "output_type": "stream",
     "text": [
      "+-----------+--------+---------+----+-----+\n",
      "|  stationId|    time|entryType|temp|tempF|\n",
      "+-----------+--------+---------+----+-----+\n",
      "|ITE00100554|18000101|     TMAX| -75| 18.5|\n",
      "|ITE00100554|18000101|     TMIN|-148| 5.36|\n",
      "|GM000010962|18000101|     PRCP|   0| 32.0|\n",
      "|EZE00100082|18000101|     TMAX| -86|16.52|\n",
      "|EZE00100082|18000101|     TMIN|-135|  7.7|\n",
      "|ITE00100554|18000102|     TMAX| -60| 21.2|\n",
      "|ITE00100554|18000102|     TMIN|-125|  9.5|\n",
      "|GM000010962|18000102|     PRCP|   0| 32.0|\n",
      "|EZE00100082|18000102|     TMAX| -44|24.08|\n",
      "|EZE00100082|18000102|     TMIN|-130|  8.6|\n",
      "|ITE00100554|18000103|     TMAX| -23|27.86|\n",
      "|ITE00100554|18000103|     TMIN| -46|23.72|\n",
      "|GM000010962|18000103|     PRCP|   4|32.72|\n",
      "|EZE00100082|18000103|     TMAX| -10| 30.2|\n",
      "|EZE00100082|18000103|     TMIN| -73|18.86|\n",
      "|ITE00100554|18000104|     TMAX|   0| 32.0|\n",
      "|ITE00100554|18000104|     TMIN| -13|29.66|\n",
      "|GM000010962|18000104|     PRCP|   0| 32.0|\n",
      "|EZE00100082|18000104|     TMAX| -55| 22.1|\n",
      "|EZE00100082|18000104|     TMIN| -74|18.68|\n",
      "+-----------+--------+---------+----+-----+\n",
      "only showing top 20 rows\n",
      "\n"
     ]
    }
   ],
   "source": [
    "df = df.withColumn(\"tempF\", round(df.temp * 0.1 * (0.9/0.5) + 32.0,2))\n",
    "df.show()"
   ]
  },
  {
   "cell_type": "code",
   "execution_count": 8,
   "metadata": {
    "scrolled": true
   },
   "outputs": [
    {
     "name": "stdout",
     "output_type": "stream",
     "text": [
      "+-------+-----------+-------------------+---------+-----------------+------------------+\n",
      "|summary|  stationId|               time|entryType|             temp|             tempF|\n",
      "+-------+-----------+-------------------+---------+-----------------+------------------+\n",
      "|  count|       1825|               1825|     1825|             1825|              1825|\n",
      "|   mean|       null|1.800066832328767E7|     null|97.53479452054795| 49.55626301369864|\n",
      "| stddev|       null|  345.0964453798429|     null|93.40225576440513|16.812406037592925|\n",
      "|    min|EZE00100082|           18000101|     PRCP|             -148|              5.36|\n",
      "|    max|ITE00100554|           18001231|     TMIN|              323|             90.14|\n",
      "+-------+-----------+-------------------+---------+-----------------+------------------+\n",
      "\n",
      "+-----------+--------+---------+----+-----+\n",
      "|  stationId|    time|entryType|temp|tempF|\n",
      "+-----------+--------+---------+----+-----+\n",
      "|ITE00100554|18000101|     TMAX| -75| 18.5|\n",
      "|ITE00100554|18000101|     TMIN|-148| 5.36|\n",
      "|GM000010962|18000101|     PRCP|   0| 32.0|\n",
      "|EZE00100082|18000101|     TMAX| -86|16.52|\n",
      "|EZE00100082|18000101|     TMIN|-135|  7.7|\n",
      "|ITE00100554|18000102|     TMAX| -60| 21.2|\n",
      "|ITE00100554|18000102|     TMIN|-125|  9.5|\n",
      "|GM000010962|18000102|     PRCP|   0| 32.0|\n",
      "|EZE00100082|18000102|     TMAX| -44|24.08|\n",
      "|EZE00100082|18000102|     TMIN|-130|  8.6|\n",
      "|ITE00100554|18000103|     TMAX| -23|27.86|\n",
      "|ITE00100554|18000103|     TMIN| -46|23.72|\n",
      "|GM000010962|18000103|     PRCP|   4|32.72|\n",
      "|EZE00100082|18000103|     TMAX| -10| 30.2|\n",
      "|EZE00100082|18000103|     TMIN| -73|18.86|\n",
      "|ITE00100554|18000104|     TMAX|   0| 32.0|\n",
      "|ITE00100554|18000104|     TMIN| -13|29.66|\n",
      "|GM000010962|18000104|     PRCP|   0| 32.0|\n",
      "|EZE00100082|18000104|     TMAX| -55| 22.1|\n",
      "|EZE00100082|18000104|     TMIN| -74|18.68|\n",
      "+-----------+--------+---------+----+-----+\n",
      "only showing top 20 rows\n",
      "\n"
     ]
    }
   ],
   "source": [
    "df.registerTempTable(\"temps\")\n",
    "df.describe().show()\n",
    "df.show()"
   ]
  },
  {
   "cell_type": "code",
   "execution_count": 9,
   "metadata": {},
   "outputs": [],
   "source": [
    "schemaStation = StructType([ \\\n",
    "        StructField(\"stationId\", StringType(), True),\\\n",
    "        StructField(\"city\", StringType(), True),\\\n",
    "    ])"
   ]
  },
  {
   "cell_type": "code",
   "execution_count": 10,
   "metadata": {},
   "outputs": [],
   "source": [
    "dfStation = spark1.read\\\n",
    "    .schema(schemaStation)\\\n",
    "    .csv('1800stations.csv')"
   ]
  },
  {
   "cell_type": "code",
   "execution_count": 11,
   "metadata": {},
   "outputs": [
    {
     "name": "stdout",
     "output_type": "stream",
     "text": [
      "+-----------+----------------+\n",
      "|  stationId|            city|\n",
      "+-----------+----------------+\n",
      "|ITE00100554|           Milan|\n",
      "|EZE00100082|          Prague|\n",
      "|GM000010962|Hohenpeissenberg|\n",
      "+-----------+----------------+\n",
      "\n"
     ]
    }
   ],
   "source": [
    "dfStation.registerTempTable(\"stations\")\n",
    "dfStation.show()"
   ]
  },
  {
   "cell_type": "code",
   "execution_count": 12,
   "metadata": {},
   "outputs": [
    {
     "name": "stdout",
     "output_type": "stream",
     "text": [
      "+------+-----------+-------+\n",
      "|  city|  stationId|maxTemp|\n",
      "+------+-----------+-------+\n",
      "|Prague|EZE00100082|  90.14|\n",
      "| Milan|ITE00100554|  90.14|\n",
      "+------+-----------+-------+\n",
      "\n"
     ]
    }
   ],
   "source": [
    "        # max(t.temp * 0.1 * (0.9/0.5) + 32.0) as maxTemp \n",
    "    \n",
    "dfJoin = spark1.sql(\"\\\n",
    "    select s.city, t.stationId, \\\n",
    "        max(tempF) as maxTemp \\\n",
    "    from temps t join stations s on s.stationId = t.stationId \\\n",
    "    where entryType = 'TMAX' \\\n",
    "    group by s.city, t.stationId\")\n",
    "dfJoin.show()"
   ]
  },
  {
   "cell_type": "code",
   "execution_count": null,
   "metadata": {},
   "outputs": [],
   "source": []
  }
 ],
 "metadata": {
  "kernelspec": {
   "display_name": "Python 3",
   "language": "python",
   "name": "python3"
  },
  "language_info": {
   "codemirror_mode": {
    "name": "ipython",
    "version": 3
   },
   "file_extension": ".py",
   "mimetype": "text/x-python",
   "name": "python",
   "nbconvert_exporter": "python",
   "pygments_lexer": "ipython3",
   "version": "3.8.5"
  }
 },
 "nbformat": 4,
 "nbformat_minor": 4
}
