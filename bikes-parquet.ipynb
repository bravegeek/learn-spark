{
 "cells": [
  {
   "cell_type": "code",
   "execution_count": 1,
   "metadata": {},
   "outputs": [],
   "source": [
    "from pyspark.sql import SparkSession\n",
    "from pyspark.sql.types import StructType,StructField,StringType,IntegerType\n",
    "from pyspark.sql.functions import round "
   ]
  },
  {
   "cell_type": "code",
   "execution_count": 2,
   "metadata": {},
   "outputs": [],
   "source": [
    "spark1 = SparkSession.builder \\\n",
    "    .master('local[2]') \\\n",
    "    .appName('BigData') \\\n",
    "    .getOrCreate()"
   ]
  },
  {
   "cell_type": "code",
   "execution_count": 3,
   "metadata": {},
   "outputs": [],
   "source": [
    "df = spark1.read\\\n",
    "    .parquet('bike.parquet')\n",
    "\n",
    "df.registerTempTable(\"bike\")"
   ]
  },
  {
   "cell_type": "code",
   "execution_count": 4,
   "metadata": {},
   "outputs": [],
   "source": [
    "# df.count()\n",
    "# df.show()"
   ]
  },
  {
   "cell_type": "code",
   "execution_count": 5,
   "metadata": {},
   "outputs": [],
   "source": [
    "dfStation = spark1.read\\\n",
    "    .parquet('station.parquet')\n",
    "\n",
    "dfStation.registerTempTable(\"station\")"
   ]
  },
  {
   "cell_type": "code",
   "execution_count": 6,
   "metadata": {},
   "outputs": [],
   "source": [
    "# dfStation.count()\n",
    "# dfStation.show()"
   ]
  },
  {
   "cell_type": "code",
   "execution_count": 21,
   "metadata": {},
   "outputs": [],
   "source": [
    "#     where `Start station number` <> `End station number` \\\n",
    "\n",
    "dfJoin = spark1.sql(\"\\\n",
    "    select duration, bikeId, \\\n",
    "        s1.station as startStationName, \\\n",
    "        s2.station as endStationName \\\n",
    "    from bike b \\\n",
    "        left join station s1 on s1.stationId = b.start_stationId \\\n",
    "        left join station s2 on s2.stationId = b.end_stationId \\\n",
    "    \")"
   ]
  },
  {
   "cell_type": "code",
   "execution_count": 20,
   "metadata": {},
   "outputs": [
    {
     "data": {
      "text/plain": [
       "61770740"
      ]
     },
     "execution_count": 20,
     "metadata": {},
     "output_type": "execute_result"
    }
   ],
   "source": [
    "# dfJoin.describe().show()\n",
    "dfJoin.count()"
   ]
  },
  {
   "cell_type": "code",
   "execution_count": 19,
   "metadata": {},
   "outputs": [
    {
     "name": "stdout",
     "output_type": "stream",
     "text": [
      "+--------+------+--------------------+--------------------+\n",
      "|duration|bikeId|    startStationName|      endStationName|\n",
      "+--------+------+--------------------+--------------------+\n",
      "|     590|W20006|       7th & T St NW|      18th & R St NW|\n",
      "|    2938|W22225|Henry Bacon Dr & ...|      14th & G St NW|\n",
      "|    1422|W20489|Iwo Jima Memorial...|George Mason Dr &...|\n",
      "|    1653|W22746|      16th & R St NW|20th & O St NW / ...|\n",
      "|    1488|W00027|      16th & R St NW|20th & O St NW / ...|\n",
      "|    2660|W00316|N Randolph St & F...|Columbia Pike & S...|\n",
      "|   34240|W22072|New Hampshire Ave...|Eckington Pl & Q ...|\n",
      "|    1488|W21234|Columbia Rd & Geo...|13th St & Eastern...|\n",
      "|    4027|W00921|      11th & F St NW|      11th & F St NW|\n",
      "|    4029|W21077|      11th & F St NW|      11th & F St NW|\n",
      "|     981|W21625|10th St & Constit...|Florida Ave & R S...|\n",
      "|     501|W22747|Calvert & Biltmor...|      14th & R St NW|\n",
      "|    1063|W01096|New Hampshire Ave...|Lamont & Mt Pleas...|\n",
      "|     560|W01049|14th & Rhode Isla...|Eckington Pl & Q ...|\n",
      "|     739|W22960| 11th & Kenyon St NW|Convention Center...|\n",
      "|    1039|W00401|      14th & V St NW|20th & O St NW / ...|\n",
      "|     994|W20321|       6th & H St NE|       Thomas Circle|\n",
      "|   29778|W21496|18th St & Wyoming...|       1st & M St NE|\n",
      "|    3146|W21615|18th St & Wyoming...|       1st & M St NE|\n",
      "|     702|W21794|15th & East Capit...|       2nd & G St NE|\n",
      "+--------+------+--------------------+--------------------+\n",
      "only showing top 20 rows\n",
      "\n"
     ]
    }
   ],
   "source": [
    "dfJoin.show()"
   ]
  },
  {
   "cell_type": "code",
   "execution_count": null,
   "metadata": {},
   "outputs": [],
   "source": []
  }
 ],
 "metadata": {
  "kernelspec": {
   "display_name": "Python 3",
   "language": "python",
   "name": "python3"
  },
  "language_info": {
   "codemirror_mode": {
    "name": "ipython",
    "version": 3
   },
   "file_extension": ".py",
   "mimetype": "text/x-python",
   "name": "python",
   "nbconvert_exporter": "python",
   "pygments_lexer": "ipython3",
   "version": "3.8.5"
  }
 },
 "nbformat": 4,
 "nbformat_minor": 4
}
